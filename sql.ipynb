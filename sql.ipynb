{
 "cells": [
  {
   "cell_type": "code",
   "execution_count": 1,
   "id": "010a8415",
   "metadata": {},
   "outputs": [],
   "source": [
    "from app.dao.db_base import engine, async_session_maker\n",
    "from app.models.stock import Stock\n",
    "from app.models.item import Item\n",
    "from app.models.cat import Cat\n",
    "from app.models.user import User\n",
    "\n",
    "from sqlalchemy import select, func"
   ]
  },
  {
   "cell_type": "code",
   "execution_count": 2,
   "id": "b66dde44",
   "metadata": {},
   "outputs": [],
   "source": [
    "async def find_all_stocks():\n",
    "    async with async_session_maker() as session:\n",
    "        query = select(Stock)\n",
    "        try:\n",
    "            result = await session.execute(query)\n",
    "            return result.scalars().all()\n",
    "        except Exception as e:\n",
    "            print(e)\n",
    "            raise"
   ]
  },
  {
   "cell_type": "code",
   "execution_count": 3,
   "id": "628b2b85",
   "metadata": {},
   "outputs": [],
   "source": [
    "# async def get_stocks():\n",
    "#     return await find_all_stocks()"
   ]
  },
  {
   "cell_type": "code",
   "execution_count": 4,
   "id": "81350e53",
   "metadata": {},
   "outputs": [
    {
     "name": "stdout",
     "output_type": "stream",
     "text": [
      "2025-04-11 15:45:18,796 INFO sqlalchemy.engine.Engine BEGIN (implicit)\n",
      "2025-04-11 15:45:18,826 INFO sqlalchemy.engine.Engine SELECT stocks.reference, stocks.date, stocks.consignor, stocks.ready, stocks.note, stocks.id \n",
      "FROM stocks\n",
      "2025-04-11 15:45:18,827 INFO sqlalchemy.engine.Engine [generated in 0.00133s] ()\n",
      "2025-04-11 15:45:18,830 INFO sqlalchemy.engine.Engine ROLLBACK\n",
      "[<app.models.stock.Stock object at 0x7f9b73f8cb20>, <app.models.stock.Stock object at 0x7f9b73f8cd00>, <app.models.stock.Stock object at 0x7f9b73f8cd30>, <app.models.stock.Stock object at 0x7f9b73f8cd60>, <app.models.stock.Stock object at 0x7f9b73f8cd90>, <app.models.stock.Stock object at 0x7f9b73f8cdc0>, <app.models.stock.Stock object at 0x7f9b73f8ccd0>, <app.models.stock.Stock object at 0x7f9b73f8ce20>]\n"
     ]
    }
   ],
   "source": [
    "stocks = await find_all_stocks()\n",
    "print(stocks)"
   ]
  },
  {
   "cell_type": "code",
   "execution_count": 5,
   "id": "696b344b",
   "metadata": {},
   "outputs": [
    {
     "name": "stdout",
     "output_type": "stream",
     "text": [
      "[Stock(reference='FEU034/25', date=datetime.datetime(2025, 2, 2, 0, 0), consignor='Pujol', ready=False, note='tech note'), Stock(reference='FEU036/25', date=datetime.datetime(2025, 2, 10, 0, 0), consignor='Pujol', ready=False, note='tech note'), Stock(reference='FEU039/25', date=datetime.datetime(2025, 2, 13, 0, 0), consignor='Pujol', ready=False, note='tech note'), Stock(reference='FEU040/25', date=datetime.datetime(2025, 2, 14, 20, 53, 26, 999000), consignor='Puijol', ready=False, note='Postman note'), Stock(reference='FEU041/25', date=datetime.datetime(2025, 2, 14, 20, 53, 26, 999000), consignor='Puijol', ready=False, note='Postman note'), Stock(reference='FEU042/25', date=datetime.datetime(2025, 2, 14, 20, 53, 26, 999000), consignor='Puijol', ready=False, note='Postman note'), Stock(reference='FEU049/25', date=datetime.datetime(2025, 2, 16, 0, 0), consignor='Pujol 2', ready=False, note='Postman note'), Stock(reference='FE052/25', date=datetime.datetime(2025, 4, 1, 0, 0), consignor='wonder sender', ready=False, note='test')]\n"
     ]
    }
   ],
   "source": [
    "from app.schemas.stock import Stock as StockSchema\n",
    "print([StockSchema(**stock.to_dict()) for stock in stocks])"
   ]
  },
  {
   "cell_type": "code",
   "execution_count": 6,
   "id": "66ab4bee",
   "metadata": {},
   "outputs": [],
   "source": [
    "from sqlalchemy.orm import joinedload\n",
    "async def get_full_item():\n",
    "    async with async_session_maker() as session:\n",
    "        query = select(Item).options(joinedload(Item.stock))\n",
    "        try:\n",
    "            result = await session.execute(query)\n",
    "\n",
    "            return result.scalars().all()\n",
    "        except Exception as e:\n",
    "            print(e)\n",
    "            raise"
   ]
  },
  {
   "cell_type": "code",
   "execution_count": 7,
   "id": "9f7f1fb6",
   "metadata": {},
   "outputs": [
    {
     "name": "stdout",
     "output_type": "stream",
     "text": [
      "2025-04-11 15:45:19,011 INFO sqlalchemy.engine.Engine BEGIN (implicit)\n",
      "2025-04-11 15:45:19,018 INFO sqlalchemy.engine.Engine SELECT items.stock_id, items.load_id, items.cat_id, items.lot, items.pallet, items.roll, items.note, items.id, stocks_1.reference, stocks_1.date, stocks_1.consignor, stocks_1.ready, stocks_1.note AS note_1, stocks_1.id AS id_1 \n",
      "FROM items LEFT OUTER JOIN stocks AS stocks_1 ON stocks_1.id = items.stock_id\n",
      "2025-04-11 15:45:19,018 INFO sqlalchemy.engine.Engine [generated in 0.00077s] ()\n",
      "2025-04-11 15:45:19,022 INFO sqlalchemy.engine.Engine ROLLBACK\n"
     ]
    }
   ],
   "source": [
    "items = await get_full_item()"
   ]
  },
  {
   "cell_type": "code",
   "execution_count": 8,
   "id": "10a41f02",
   "metadata": {},
   "outputs": [
    {
     "name": "stdout",
     "output_type": "stream",
     "text": [
      "[<app.models.item.Item object at 0x7f9b73f8eb30>, <app.models.item.Item object at 0x7f9b73f8cf40>, <app.models.item.Item object at 0x7f9b73f8cee0>, <app.models.item.Item object at 0x7f9b73f8d090>, <app.models.item.Item object at 0x7f9b73f8cfd0>]\n"
     ]
    }
   ],
   "source": [
    "print(items)"
   ]
  },
  {
   "cell_type": "code",
   "execution_count": 9,
   "id": "d994c51b",
   "metadata": {},
   "outputs": [],
   "source": [
    "from pydantic import BaseModel, ConfigDict\n",
    "from datetime import datetime\n",
    "\n",
    "class Stock(BaseModel):\n",
    "    reference: str\n",
    "    date: datetime\n",
    "    consignor: str\n",
    "    ready: bool\n",
    "\n",
    "class Item(BaseModel):\n",
    "    id: int\n",
    "    lot: str\n",
    "    pallet: str\n",
    "    roll: str\n",
    "    note: str | None = None\n",
    "    stock_id: int | None = None\n",
    "    cat_id: int\n",
    "    load_id: int | None = None\n",
    "    # stock: Stock\n",
    "    reference: str\n",
    "    date: datetime\n",
    "    consignor: str\n",
    "    ready:bool\n",
    "\n",
    "    model_config = ConfigDict(from_attributes=True)"
   ]
  },
  {
   "cell_type": "code",
   "execution_count": 10,
   "id": "6e983df6",
   "metadata": {},
   "outputs": [
    {
     "name": "stdout",
     "output_type": "stream",
     "text": [
      "{'_sa_instance_state': <sqlalchemy.orm.state.InstanceState object at 0x7f9b73f19960>, 'load_id': None, 'cat_id': 3, 'pallet': '0034', 'note': 'Item note', 'stock_id': 1, 'lot': '00245', 'roll': '0101', 'id': 1, 'stock': <app.models.stock.Stock object at 0x7f9b73f8c940>}\n",
      "{'_sa_instance_state': <sqlalchemy.orm.state.InstanceState object at 0x7f9b73f199c0>, 'consignor': 'Pujol', 'note': 'tech note', 'ready': False, 'reference': 'FEU034/25', 'date': datetime.datetime(2025, 2, 2, 0, 0), 'id': 1}\n",
      "{'_sa_instance_state': <sqlalchemy.orm.state.InstanceState object at 0x7f9b73f19a20>, 'load_id': None, 'cat_id': 3, 'pallet': '0034', 'note': 'Item note', 'stock_id': 2, 'lot': '00245', 'roll': '0103', 'id': 2, 'stock': <app.models.stock.Stock object at 0x7f9b73f8d000>}\n",
      "{'_sa_instance_state': <sqlalchemy.orm.state.InstanceState object at 0x7f9b73f19a80>, 'consignor': 'Pujol', 'note': 'tech note', 'ready': False, 'reference': 'FEU036/25', 'date': datetime.datetime(2025, 2, 10, 0, 0), 'id': 2}\n",
      "{'_sa_instance_state': <sqlalchemy.orm.state.InstanceState object at 0x7f9b73f19ae0>, 'load_id': None, 'cat_id': 1, 'pallet': '0055', 'note': 'Item note', 'stock_id': 1, 'lot': '00430', 'roll': '1022', 'id': 3, 'stock': <app.models.stock.Stock object at 0x7f9b73f8c940>}\n",
      "{'_sa_instance_state': <sqlalchemy.orm.state.InstanceState object at 0x7f9b73f199c0>, 'consignor': 'Pujol', 'note': 'tech note', 'ready': False, 'reference': 'FEU034/25', 'date': datetime.datetime(2025, 2, 2, 0, 0), 'id': 1}\n",
      "{'_sa_instance_state': <sqlalchemy.orm.state.InstanceState object at 0x7f9b73f19b40>, 'load_id': None, 'cat_id': 4, 'pallet': '0204', 'note': 'item note', 'stock_id': 4, 'lot': '20003', 'roll': '0126', 'id': 4, 'stock': <app.models.stock.Stock object at 0x7f9b73f8d060>}\n",
      "{'_sa_instance_state': <sqlalchemy.orm.state.InstanceState object at 0x7f9b73f18fa0>, 'consignor': 'Puijol', 'note': 'Postman note', 'ready': False, 'reference': 'FEU040/25', 'date': datetime.datetime(2025, 2, 14, 20, 53, 26, 999000), 'id': 4}\n",
      "{'_sa_instance_state': <sqlalchemy.orm.state.InstanceState object at 0x7f9b73f19ba0>, 'load_id': None, 'cat_id': 1, 'pallet': '0304', 'note': 'forn add', 'stock_id': 1, 'lot': '03200', 'roll': '0023', 'id': 5, 'stock': <app.models.stock.Stock object at 0x7f9b73f8c940>}\n",
      "{'_sa_instance_state': <sqlalchemy.orm.state.InstanceState object at 0x7f9b73f199c0>, 'consignor': 'Pujol', 'note': 'tech note', 'ready': False, 'reference': 'FEU034/25', 'date': datetime.datetime(2025, 2, 2, 0, 0), 'id': 1}\n"
     ]
    }
   ],
   "source": [
    "for item in items:\n",
    "   print( item.__dict__)\n",
    "   if item.stock:\n",
    "         print(item.stock.__dict__)"
   ]
  },
  {
   "cell_type": "code",
   "execution_count": 11,
   "id": "65547816",
   "metadata": {},
   "outputs": [
    {
     "ename": "ValidationError",
     "evalue": "4 validation errors for Item\nreference\n  Field required [type=missing, input_value=<app.models.item.Item object at 0x7f9b73f8eb30>, input_type=Item]\n    For further information visit https://errors.pydantic.dev/2.10/v/missing\ndate\n  Field required [type=missing, input_value=<app.models.item.Item object at 0x7f9b73f8eb30>, input_type=Item]\n    For further information visit https://errors.pydantic.dev/2.10/v/missing\nconsignor\n  Field required [type=missing, input_value=<app.models.item.Item object at 0x7f9b73f8eb30>, input_type=Item]\n    For further information visit https://errors.pydantic.dev/2.10/v/missing\nready\n  Field required [type=missing, input_value=<app.models.item.Item object at 0x7f9b73f8eb30>, input_type=Item]\n    For further information visit https://errors.pydantic.dev/2.10/v/missing",
     "output_type": "error",
     "traceback": [
      "\u001b[0;31m---------------------------------------------------------------------------\u001b[0m",
      "\u001b[0;31mValidationError\u001b[0m                           Traceback (most recent call last)",
      "Cell \u001b[0;32mIn[11], line 1\u001b[0m\n\u001b[0;32m----> 1\u001b[0m \u001b[43mItem\u001b[49m\u001b[38;5;241;43m.\u001b[39;49m\u001b[43mmodel_validate\u001b[49m\u001b[43m(\u001b[49m\u001b[43mitems\u001b[49m\u001b[43m[\u001b[49m\u001b[38;5;241;43m0\u001b[39;49m\u001b[43m]\u001b[49m\u001b[43m)\u001b[49m\n",
      "File \u001b[0;32m~/python/evalam/.venv/lib/python3.10/site-packages/pydantic/main.py:627\u001b[0m, in \u001b[0;36mBaseModel.model_validate\u001b[0;34m(cls, obj, strict, from_attributes, context)\u001b[0m\n\u001b[1;32m    625\u001b[0m \u001b[38;5;66;03m# `__tracebackhide__` tells pytest and some other tools to omit this function from tracebacks\u001b[39;00m\n\u001b[1;32m    626\u001b[0m __tracebackhide__ \u001b[38;5;241m=\u001b[39m \u001b[38;5;28;01mTrue\u001b[39;00m\n\u001b[0;32m--> 627\u001b[0m \u001b[38;5;28;01mreturn\u001b[39;00m \u001b[38;5;28;43mcls\u001b[39;49m\u001b[38;5;241;43m.\u001b[39;49m\u001b[43m__pydantic_validator__\u001b[49m\u001b[38;5;241;43m.\u001b[39;49m\u001b[43mvalidate_python\u001b[49m\u001b[43m(\u001b[49m\n\u001b[1;32m    628\u001b[0m \u001b[43m    \u001b[49m\u001b[43mobj\u001b[49m\u001b[43m,\u001b[49m\u001b[43m \u001b[49m\u001b[43mstrict\u001b[49m\u001b[38;5;241;43m=\u001b[39;49m\u001b[43mstrict\u001b[49m\u001b[43m,\u001b[49m\u001b[43m \u001b[49m\u001b[43mfrom_attributes\u001b[49m\u001b[38;5;241;43m=\u001b[39;49m\u001b[43mfrom_attributes\u001b[49m\u001b[43m,\u001b[49m\u001b[43m \u001b[49m\u001b[43mcontext\u001b[49m\u001b[38;5;241;43m=\u001b[39;49m\u001b[43mcontext\u001b[49m\n\u001b[1;32m    629\u001b[0m \u001b[43m\u001b[49m\u001b[43m)\u001b[49m\n",
      "\u001b[0;31mValidationError\u001b[0m: 4 validation errors for Item\nreference\n  Field required [type=missing, input_value=<app.models.item.Item object at 0x7f9b73f8eb30>, input_type=Item]\n    For further information visit https://errors.pydantic.dev/2.10/v/missing\ndate\n  Field required [type=missing, input_value=<app.models.item.Item object at 0x7f9b73f8eb30>, input_type=Item]\n    For further information visit https://errors.pydantic.dev/2.10/v/missing\nconsignor\n  Field required [type=missing, input_value=<app.models.item.Item object at 0x7f9b73f8eb30>, input_type=Item]\n    For further information visit https://errors.pydantic.dev/2.10/v/missing\nready\n  Field required [type=missing, input_value=<app.models.item.Item object at 0x7f9b73f8eb30>, input_type=Item]\n    For further information visit https://errors.pydantic.dev/2.10/v/missing"
     ]
    }
   ],
   "source": [
    "Item.model_validate(items[0])"
   ]
  },
  {
   "cell_type": "code",
   "execution_count": 12,
   "id": "ab2657ce",
   "metadata": {},
   "outputs": [
    {
     "ename": "TypeError",
     "evalue": "'Item' object is not iterable",
     "output_type": "error",
     "traceback": [
      "\u001b[0;31m---------------------------------------------------------------------------\u001b[0m",
      "\u001b[0;31mTypeError\u001b[0m                                 Traceback (most recent call last)",
      "Cell \u001b[0;32mIn[12], line 2\u001b[0m\n\u001b[1;32m      1\u001b[0m \u001b[38;5;28;01mfor\u001b[39;00m item \u001b[38;5;129;01min\u001b[39;00m items:\n\u001b[0;32m----> 2\u001b[0m     \u001b[38;5;28mprint\u001b[39m(\u001b[38;5;28;43mdict\u001b[39;49m\u001b[43m(\u001b[49m\u001b[43mitem\u001b[49m\u001b[43m)\u001b[49m)\n",
      "\u001b[0;31mTypeError\u001b[0m: 'Item' object is not iterable"
     ]
    }
   ],
   "source": [
    "for item in items:\n",
    "    print(dict(item))"
   ]
  }
 ],
 "metadata": {
  "kernelspec": {
   "display_name": ".venv",
   "language": "python",
   "name": "python3"
  },
  "language_info": {
   "codemirror_mode": {
    "name": "ipython",
    "version": 3
   },
   "file_extension": ".py",
   "mimetype": "text/x-python",
   "name": "python",
   "nbconvert_exporter": "python",
   "pygments_lexer": "ipython3",
   "version": "3.10.12"
  }
 },
 "nbformat": 4,
 "nbformat_minor": 5
}
