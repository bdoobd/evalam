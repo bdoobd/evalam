{
 "cells": [
  {
   "cell_type": "code",
   "execution_count": 1,
   "id": "fa67c5d3",
   "metadata": {},
   "outputs": [],
   "source": [
    "from sqlalchemy.orm import Session\n",
    "from sqlalchemy import create_engine\n",
    "\n",
    "engine = create_engine('sqlite+pysqlite:///app/db/data.db', echo=True)"
   ]
  },
  {
   "cell_type": "code",
   "execution_count": 2,
   "id": "657c2987",
   "metadata": {},
   "outputs": [],
   "source": [
    "from sqlalchemy import select\n",
    "\n",
    "from app.models.item import Item\n",
    "from app.models.stock import Stock\n",
    "from app.models.cat import Cat\n",
    "from app.dao.db_base import Base\n",
    "\n",
    "session = Session(engine)"
   ]
  },
  {
   "cell_type": "code",
   "execution_count": 3,
   "id": "48a8f7cd",
   "metadata": {},
   "outputs": [],
   "source": [
    "stmt = (\n",
    "    select(Item, Stock, Cat)\n",
    "    .join(Item.stock)\n",
    "    .join(Item.cat)\n",
    "    .where(Stock.ready == False)\n",
    ")"
   ]
  },
  {
   "cell_type": "code",
   "execution_count": 4,
   "id": "1f41a202",
   "metadata": {},
   "outputs": [
    {
     "name": "stdout",
     "output_type": "stream",
     "text": [
      "SELECT items.stock_id, items.load_id, items.cat_id, items.lot, items.pallet, items.roll, items.note, items.id, stocks.reference, stocks.date, stocks.consignor, stocks.ready, stocks.note AS note_1, stocks.id AS id_1, cats.name, cats.cat, cats.width, cats.weight, cats.note AS note_2, cats.id AS id_2 \n",
      "FROM items JOIN stocks ON stocks.id = items.stock_id JOIN cats ON cats.id = items.cat_id \n",
      "WHERE stocks.ready = false\n"
     ]
    }
   ],
   "source": [
    "print(stmt)"
   ]
  },
  {
   "cell_type": "code",
   "execution_count": 5,
   "id": "43e623f2",
   "metadata": {},
   "outputs": [
    {
     "name": "stdout",
     "output_type": "stream",
     "text": [
      "2025-05-15 14:53:23,405 INFO sqlalchemy.engine.Engine BEGIN (implicit)\n",
      "2025-05-15 14:53:23,410 INFO sqlalchemy.engine.Engine SELECT items.stock_id, items.load_id, items.cat_id, items.lot, items.pallet, items.roll, items.note, items.id, stocks.reference, stocks.date, stocks.consignor, stocks.ready, stocks.note AS note_1, stocks.id AS id_1, cats.name, cats.cat, cats.width, cats.weight, cats.note AS note_2, cats.id AS id_2 \n",
      "FROM items JOIN stocks ON stocks.id = items.stock_id JOIN cats ON cats.id = items.cat_id \n",
      "WHERE stocks.ready = 0\n",
      "2025-05-15 14:53:23,412 INFO sqlalchemy.engine.Engine [generated in 0.00151s] ()\n"
     ]
    }
   ],
   "source": [
    "result = session.execute(stmt).scalars().all()"
   ]
  },
  {
   "cell_type": "code",
   "execution_count": 6,
   "id": "7b5acbfb",
   "metadata": {},
   "outputs": [
    {
     "name": "stdout",
     "output_type": "stream",
     "text": [
      "2025-05-15 14:53:23,454 INFO sqlalchemy.engine.Engine SELECT stocks.reference AS stocks_reference, stocks.date AS stocks_date, stocks.consignor AS stocks_consignor, stocks.ready AS stocks_ready, stocks.note AS stocks_note, stocks.id AS stocks_id \n",
      "FROM stocks \n",
      "WHERE stocks.id = ?\n",
      "2025-05-15 14:53:23,455 INFO sqlalchemy.engine.Engine [generated in 0.00192s] (1,)\n",
      "2025-05-15 14:53:23,458 INFO sqlalchemy.engine.Engine SELECT cats.name AS cats_name, cats.cat AS cats_cat, cats.width AS cats_width, cats.weight AS cats_weight, cats.note AS cats_note, cats.id AS cats_id \n",
      "FROM cats \n",
      "WHERE cats.id = ?\n",
      "2025-05-15 14:53:23,458 INFO sqlalchemy.engine.Engine [generated in 0.00041s] (3,)\n",
      "2025-05-15 14:53:23,460 INFO sqlalchemy.engine.Engine SELECT stocks.reference AS stocks_reference, stocks.date AS stocks_date, stocks.consignor AS stocks_consignor, stocks.ready AS stocks_ready, stocks.note AS stocks_note, stocks.id AS stocks_id \n",
      "FROM stocks \n",
      "WHERE stocks.id = ?\n",
      "2025-05-15 14:53:23,462 INFO sqlalchemy.engine.Engine [cached since 0.008905s ago] (2,)\n",
      "2025-05-15 14:53:23,464 INFO sqlalchemy.engine.Engine SELECT cats.name AS cats_name, cats.cat AS cats_cat, cats.width AS cats_width, cats.weight AS cats_weight, cats.note AS cats_note, cats.id AS cats_id \n",
      "FROM cats \n",
      "WHERE cats.id = ?\n",
      "2025-05-15 14:53:23,465 INFO sqlalchemy.engine.Engine [cached since 0.00739s ago] (1,)\n",
      "2025-05-15 14:53:23,467 INFO sqlalchemy.engine.Engine SELECT stocks.reference AS stocks_reference, stocks.date AS stocks_date, stocks.consignor AS stocks_consignor, stocks.ready AS stocks_ready, stocks.note AS stocks_note, stocks.id AS stocks_id \n",
      "FROM stocks \n",
      "WHERE stocks.id = ?\n",
      "2025-05-15 14:53:23,469 INFO sqlalchemy.engine.Engine [cached since 0.01578s ago] (4,)\n",
      "2025-05-15 14:53:23,471 INFO sqlalchemy.engine.Engine SELECT cats.name AS cats_name, cats.cat AS cats_cat, cats.width AS cats_width, cats.weight AS cats_weight, cats.note AS cats_note, cats.id AS cats_id \n",
      "FROM cats \n",
      "WHERE cats.id = ?\n",
      "2025-05-15 14:53:23,471 INFO sqlalchemy.engine.Engine [cached since 0.01352s ago] (4,)\n"
     ]
    }
   ],
   "source": [
    "from app.schemas.item import ItemInStock\n",
    "items_on_stock = [ItemInStock.model_validate(item) for item in result]"
   ]
  },
  {
   "cell_type": "code",
   "execution_count": 7,
   "id": "97da29a0",
   "metadata": {},
   "outputs": [
    {
     "data": {
      "text/plain": [
       "[ItemInStock(id=1, lot='00245', pallet='0034', roll='0101', note='Item note', stock=Stock(reference='FEU034/25', date=datetime.datetime(2025, 2, 2, 0, 0), consignor='Pujol', ready=False, note='tech note'), cat=Cat(name='Visual', cat='film', width=1800, weight=123.0, note='Сгенерированное примечание к категории')),\n",
       " ItemInStock(id=2, lot='00245', pallet='0034', roll='0103', note='Item note', stock=Stock(reference='FEU036/25', date=datetime.datetime(2025, 2, 10, 0, 0), consignor='Pujol', ready=False, note='tech note'), cat=Cat(name='Visual', cat='film', width=1800, weight=123.0, note='Сгенерированное примечание к категории')),\n",
       " ItemInStock(id=3, lot='00430', pallet='0055', roll='1022', note='Item note', stock=Stock(reference='FEU034/25', date=datetime.datetime(2025, 2, 2, 0, 0), consignor='Pujol', ready=False, note='tech note'), cat=Cat(name='Visual', cat='film', width=2200, weight=156.0, note='Сгенерированное примечание к категории')),\n",
       " ItemInStock(id=4, lot='20003', pallet='0204', roll='0126', note='item note', stock=Stock(reference='FEU040/25', date=datetime.datetime(2025, 2, 14, 20, 53, 26, 999000), consignor='Puijol', ready=False, note='Postman note'), cat=Cat(name='Visual', cat='film', width=1300, weight=102.0, note='Сгенерированное примечание к категории')),\n",
       " ItemInStock(id=5, lot='03200', pallet='0304', roll='0023', note='forn add', stock=Stock(reference='FEU034/25', date=datetime.datetime(2025, 2, 2, 0, 0), consignor='Pujol', ready=False, note='tech note'), cat=Cat(name='Visual', cat='film', width=2200, weight=156.0, note='Сгенерированное примечание к категории'))]"
      ]
     },
     "execution_count": 7,
     "metadata": {},
     "output_type": "execute_result"
    }
   ],
   "source": [
    "items_on_stock"
   ]
  },
  {
   "cell_type": "code",
   "execution_count": 8,
   "id": "add4c287",
   "metadata": {},
   "outputs": [],
   "source": [
    "stocks = [item.stock for item in items_on_stock]"
   ]
  },
  {
   "cell_type": "code",
   "execution_count": 9,
   "id": "aa39dd47",
   "metadata": {},
   "outputs": [
    {
     "name": "stdout",
     "output_type": "stream",
     "text": [
      "02.02.2025\n",
      "10.02.2025\n",
      "02.02.2025\n",
      "14.02.2025\n",
      "02.02.2025\n"
     ]
    }
   ],
   "source": [
    "for stock in stocks:\n",
    "    print(stock.date.strftime('%d.%m.%Y'))"
   ]
  },
  {
   "cell_type": "code",
   "execution_count": 10,
   "id": "ca114206",
   "metadata": {},
   "outputs": [],
   "source": [
    "temp = [item.stock.date.strftime('%d.%m.%Y') for item in items_on_stock]"
   ]
  },
  {
   "cell_type": "code",
   "execution_count": 11,
   "id": "1434e0b9",
   "metadata": {},
   "outputs": [
    {
     "data": {
      "text/plain": [
       "['02.02.2025', '10.02.2025', '02.02.2025', '14.02.2025', '02.02.2025']"
      ]
     },
     "execution_count": 11,
     "metadata": {},
     "output_type": "execute_result"
    }
   ],
   "source": [
    "temp"
   ]
  },
  {
   "cell_type": "code",
   "execution_count": 12,
   "id": "ba984f05",
   "metadata": {},
   "outputs": [],
   "source": [
    "import copy\n",
    "\n",
    "def format_item_date(item):\n",
    "    cloned = copy.deepcopy(item)\n",
    "    cloned.stock.date = cloned.stock.date.strftime('%d.%m.%Y')\n",
    "    return cloned\n",
    "\n",
    "formatted_items = [format_item_date(item) for item in items_on_stock]"
   ]
  },
  {
   "cell_type": "code",
   "execution_count": 13,
   "id": "04fc6077",
   "metadata": {},
   "outputs": [
    {
     "data": {
      "text/plain": [
       "[ItemInStock(id=1, lot='00245', pallet='0034', roll='0101', note='Item note', stock=Stock(reference='FEU034/25', date='02.02.2025', consignor='Pujol', ready=False, note='tech note'), cat=Cat(name='Visual', cat='film', width=1800, weight=123.0, note='Сгенерированное примечание к категории')),\n",
       " ItemInStock(id=2, lot='00245', pallet='0034', roll='0103', note='Item note', stock=Stock(reference='FEU036/25', date='10.02.2025', consignor='Pujol', ready=False, note='tech note'), cat=Cat(name='Visual', cat='film', width=1800, weight=123.0, note='Сгенерированное примечание к категории')),\n",
       " ItemInStock(id=3, lot='00430', pallet='0055', roll='1022', note='Item note', stock=Stock(reference='FEU034/25', date='02.02.2025', consignor='Pujol', ready=False, note='tech note'), cat=Cat(name='Visual', cat='film', width=2200, weight=156.0, note='Сгенерированное примечание к категории')),\n",
       " ItemInStock(id=4, lot='20003', pallet='0204', roll='0126', note='item note', stock=Stock(reference='FEU040/25', date='14.02.2025', consignor='Puijol', ready=False, note='Postman note'), cat=Cat(name='Visual', cat='film', width=1300, weight=102.0, note='Сгенерированное примечание к категории')),\n",
       " ItemInStock(id=5, lot='03200', pallet='0304', roll='0023', note='forn add', stock=Stock(reference='FEU034/25', date='02.02.2025', consignor='Pujol', ready=False, note='tech note'), cat=Cat(name='Visual', cat='film', width=2200, weight=156.0, note='Сгенерированное примечание к категории'))]"
      ]
     },
     "execution_count": 13,
     "metadata": {},
     "output_type": "execute_result"
    }
   ],
   "source": [
    "formatted_items"
   ]
  },
  {
   "cell_type": "code",
   "execution_count": 14,
   "id": "90c60aaa",
   "metadata": {},
   "outputs": [
    {
     "name": "stdout",
     "output_type": "stream",
     "text": [
      "SELECT items.stock_id, items.load_id, items.cat_id, items.lot, items.pallet, items.roll, items.note, items.id, stocks_1.reference, stocks_1.date, stocks_1.consignor, stocks_1.ready, stocks_1.note AS note_1, stocks_1.id AS id_1, cats_1.name, cats_1.cat, cats_1.width, cats_1.weight, cats_1.note AS note_2, cats_1.id AS id_2 \n",
      "FROM items LEFT OUTER JOIN stocks AS stocks_1 ON stocks_1.id = items.stock_id LEFT OUTER JOIN cats AS cats_1 ON cats_1.id = items.cat_id\n"
     ]
    }
   ],
   "source": [
    "from sqlalchemy.orm import joinedload\n",
    "\n",
    "stmt = (\n",
    "    select(Item)\n",
    "    .options(joinedload(Item.stock), joinedload(Item.cat))\n",
    ")\n",
    "\n",
    "print(stmt)"
   ]
  },
  {
   "cell_type": "code",
   "execution_count": 18,
   "id": "c6a211c4",
   "metadata": {},
   "outputs": [
    {
     "name": "stdout",
     "output_type": "stream",
     "text": [
      "2025-05-15 15:01:04,185 INFO sqlalchemy.engine.Engine SELECT items.stock_id, items.load_id, items.cat_id, items.lot, items.pallet, items.roll, items.note, items.id, stocks_1.reference, stocks_1.date, stocks_1.consignor, stocks_1.ready, stocks_1.note AS note_1, stocks_1.id AS id_1, cats_1.name, cats_1.cat, cats_1.width, cats_1.weight, cats_1.note AS note_2, cats_1.id AS id_2 \n",
      "FROM items LEFT OUTER JOIN stocks AS stocks_1 ON stocks_1.id = items.stock_id LEFT OUTER JOIN cats AS cats_1 ON cats_1.id = items.cat_id\n",
      "2025-05-15 15:01:04,186 INFO sqlalchemy.engine.Engine [cached since 104.6s ago] ()\n"
     ]
    }
   ],
   "source": [
    "result = session.execute(stmt).scalars().all()"
   ]
  },
  {
   "cell_type": "code",
   "execution_count": 19,
   "id": "f7e7caef",
   "metadata": {},
   "outputs": [],
   "source": [
    "from app.schemas.item import ItemInStock\n",
    "items_on_stock = [ItemInStock.model_validate(item) for item in result]"
   ]
  },
  {
   "cell_type": "code",
   "execution_count": 23,
   "id": "c89526c1",
   "metadata": {},
   "outputs": [
    {
     "name": "stdout",
     "output_type": "stream",
     "text": [
      "5 [ItemInStock(id=1, lot='00245', pallet='0034', roll='0101', note='Item note', stock=Stock(reference='FEU034/25', date=datetime.datetime(2025, 2, 2, 0, 0), consignor='Pujol', ready=False, note='tech note'), cat=Cat(name='Visual', cat='film', width=1800, weight=123.0, note='Сгенерированное примечание к категории')), ItemInStock(id=2, lot='00245', pallet='0034', roll='0103', note='Item note', stock=Stock(reference='FEU036/25', date=datetime.datetime(2025, 2, 10, 0, 0), consignor='Pujol', ready=False, note='tech note'), cat=Cat(name='Visual', cat='film', width=1800, weight=123.0, note='Сгенерированное примечание к категории')), ItemInStock(id=3, lot='00430', pallet='0055', roll='1022', note='Item note', stock=Stock(reference='FEU034/25', date=datetime.datetime(2025, 2, 2, 0, 0), consignor='Pujol', ready=False, note='tech note'), cat=Cat(name='Visual', cat='film', width=2200, weight=156.0, note='Сгенерированное примечание к категории')), ItemInStock(id=4, lot='20003', pallet='0204', roll='0126', note='item note', stock=Stock(reference='FEU040/25', date=datetime.datetime(2025, 2, 14, 20, 53, 26, 999000), consignor='Puijol', ready=False, note='Postman note'), cat=Cat(name='Visual', cat='film', width=1300, weight=102.0, note='Сгенерированное примечание к категории')), ItemInStock(id=5, lot='03200', pallet='0304', roll='0023', note='forn add', stock=Stock(reference='FEU034/25', date=datetime.datetime(2025, 2, 2, 0, 0), consignor='Pujol', ready=False, note='tech note'), cat=Cat(name='Visual', cat='film', width=2200, weight=156.0, note='Сгенерированное примечание к категории'))]\n"
     ]
    }
   ],
   "source": [
    "print(len(items_on_stock), items_on_stock)"
   ]
  },
  {
   "cell_type": "code",
   "execution_count": 21,
   "id": "0d0720c4",
   "metadata": {},
   "outputs": [
    {
     "name": "stdout",
     "output_type": "stream",
     "text": [
      "2025-02-02 00:00:00\n"
     ]
    }
   ],
   "source": [
    "print(items_on_stock[0].stock.date)"
   ]
  },
  {
   "cell_type": "code",
   "execution_count": 22,
   "id": "b1f82747",
   "metadata": {},
   "outputs": [
    {
     "name": "stdout",
     "output_type": "stream",
     "text": [
      "SELECT items.stock_id, items.load_id, items.cat_id, items.lot, items.pallet, items.roll, items.note, items.id \n",
      "FROM items JOIN stocks ON stocks.id = items.stock_id JOIN cats ON cats.id = items.cat_id\n"
     ]
    }
   ],
   "source": [
    "stmt = (\n",
    "    select(Item)\n",
    "    .join(Stock)\n",
    "    .join(Cat)\n",
    ")\n",
    "\n",
    "print(stmt)"
   ]
  }
 ],
 "metadata": {
  "kernelspec": {
   "display_name": ".venv",
   "language": "python",
   "name": "python3"
  },
  "language_info": {
   "codemirror_mode": {
    "name": "ipython",
    "version": 3
   },
   "file_extension": ".py",
   "mimetype": "text/x-python",
   "name": "python",
   "nbconvert_exporter": "python",
   "pygments_lexer": "ipython3",
   "version": "3.12.3"
  }
 },
 "nbformat": 4,
 "nbformat_minor": 5
}
