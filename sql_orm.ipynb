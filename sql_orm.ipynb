{
 "cells": [
  {
   "cell_type": "code",
   "execution_count": 1,
   "id": "fa67c5d3",
   "metadata": {},
   "outputs": [],
   "source": [
    "from sqlalchemy.orm import Session\n",
    "from sqlalchemy import create_engine\n",
    "\n",
    "engine = create_engine('sqlite+pysqlite:///app/db/data.db', echo=True)"
   ]
  },
  {
   "cell_type": "code",
   "execution_count": 2,
   "id": "657c2987",
   "metadata": {},
   "outputs": [],
   "source": [
    "from sqlalchemy import select\n",
    "\n",
    "from app.models.item import Item\n",
    "from app.models.stock import Stock\n",
    "from app.models.cat import Cat\n",
    "from app.dao.db_base import Base\n",
    "\n",
    "session = Session(engine)"
   ]
  },
  {
   "cell_type": "code",
   "execution_count": 3,
   "id": "48a8f7cd",
   "metadata": {},
   "outputs": [],
   "source": [
    "stmt = (\n",
    "    select(Item, Stock, Cat)\n",
    "    .join(Item.stock)\n",
    "    .join(Item.cat)\n",
    "    .where(Stock.ready == False)\n",
    ")"
   ]
  },
  {
   "cell_type": "code",
   "execution_count": 4,
   "id": "1f41a202",
   "metadata": {},
   "outputs": [
    {
     "name": "stdout",
     "output_type": "stream",
     "text": [
      "SELECT items.stock_id, items.load_id, items.cat_id, items.lot, items.pallet, items.roll, items.note, items.id, stocks.reference, stocks.date, stocks.consignor, stocks.ready, stocks.note AS note_1, stocks.id AS id_1, cats.name, cats.cat, cats.width, cats.weight, cats.note AS note_2, cats.id AS id_2 \n",
      "FROM items JOIN stocks ON stocks.id = items.stock_id JOIN cats ON cats.id = items.cat_id \n",
      "WHERE stocks.ready = false\n"
     ]
    }
   ],
   "source": [
    "print(stmt)"
   ]
  },
  {
   "cell_type": "code",
   "execution_count": 5,
   "id": "43e623f2",
   "metadata": {},
   "outputs": [
    {
     "name": "stdout",
     "output_type": "stream",
     "text": [
      "2025-04-17 21:15:21,957 INFO sqlalchemy.engine.Engine BEGIN (implicit)\n",
      "2025-04-17 21:15:21,961 INFO sqlalchemy.engine.Engine SELECT items.stock_id, items.load_id, items.cat_id, items.lot, items.pallet, items.roll, items.note, items.id, stocks.reference, stocks.date, stocks.consignor, stocks.ready, stocks.note AS note_1, stocks.id AS id_1, cats.name, cats.cat, cats.width, cats.weight, cats.note AS note_2, cats.id AS id_2 \n",
      "FROM items JOIN stocks ON stocks.id = items.stock_id JOIN cats ON cats.id = items.cat_id \n",
      "WHERE stocks.ready = 0\n",
      "2025-04-17 21:15:21,963 INFO sqlalchemy.engine.Engine [generated in 0.00130s] ()\n"
     ]
    }
   ],
   "source": [
    "result = session.execute(stmt).scalars().all()"
   ]
  },
  {
   "cell_type": "code",
   "execution_count": 6,
   "id": "7b5acbfb",
   "metadata": {},
   "outputs": [
    {
     "name": "stdout",
     "output_type": "stream",
     "text": [
      "2025-04-17 21:15:21,995 INFO sqlalchemy.engine.Engine SELECT stocks.reference AS stocks_reference, stocks.date AS stocks_date, stocks.consignor AS stocks_consignor, stocks.ready AS stocks_ready, stocks.note AS stocks_note, stocks.id AS stocks_id \n",
      "FROM stocks \n",
      "WHERE stocks.id = ?\n",
      "2025-04-17 21:15:21,996 INFO sqlalchemy.engine.Engine [generated in 0.00086s] (1,)\n",
      "2025-04-17 21:15:21,997 INFO sqlalchemy.engine.Engine SELECT cats.name AS cats_name, cats.cat AS cats_cat, cats.width AS cats_width, cats.weight AS cats_weight, cats.note AS cats_note, cats.id AS cats_id \n",
      "FROM cats \n",
      "WHERE cats.id = ?\n",
      "2025-04-17 21:15:21,998 INFO sqlalchemy.engine.Engine [generated in 0.00038s] (3,)\n",
      "2025-04-17 21:15:21,999 INFO sqlalchemy.engine.Engine SELECT stocks.reference AS stocks_reference, stocks.date AS stocks_date, stocks.consignor AS stocks_consignor, stocks.ready AS stocks_ready, stocks.note AS stocks_note, stocks.id AS stocks_id \n",
      "FROM stocks \n",
      "WHERE stocks.id = ?\n",
      "2025-04-17 21:15:22,000 INFO sqlalchemy.engine.Engine [cached since 0.004891s ago] (2,)\n",
      "2025-04-17 21:15:22,001 INFO sqlalchemy.engine.Engine SELECT cats.name AS cats_name, cats.cat AS cats_cat, cats.width AS cats_width, cats.weight AS cats_weight, cats.note AS cats_note, cats.id AS cats_id \n",
      "FROM cats \n",
      "WHERE cats.id = ?\n",
      "2025-04-17 21:15:22,001 INFO sqlalchemy.engine.Engine [cached since 0.003707s ago] (1,)\n",
      "2025-04-17 21:15:22,002 INFO sqlalchemy.engine.Engine SELECT stocks.reference AS stocks_reference, stocks.date AS stocks_date, stocks.consignor AS stocks_consignor, stocks.ready AS stocks_ready, stocks.note AS stocks_note, stocks.id AS stocks_id \n",
      "FROM stocks \n",
      "WHERE stocks.id = ?\n",
      "2025-04-17 21:15:22,002 INFO sqlalchemy.engine.Engine [cached since 0.007021s ago] (4,)\n",
      "2025-04-17 21:15:22,002 INFO sqlalchemy.engine.Engine SELECT cats.name AS cats_name, cats.cat AS cats_cat, cats.width AS cats_width, cats.weight AS cats_weight, cats.note AS cats_note, cats.id AS cats_id \n",
      "FROM cats \n",
      "WHERE cats.id = ?\n",
      "2025-04-17 21:15:22,003 INFO sqlalchemy.engine.Engine [cached since 0.006067s ago] (4,)\n"
     ]
    }
   ],
   "source": [
    "from app.schemas.item import ItemInStock\n",
    "items_on_stock = [ItemInStock.model_validate(item) for item in result]"
   ]
  },
  {
   "cell_type": "code",
   "execution_count": 7,
   "id": "97da29a0",
   "metadata": {},
   "outputs": [
    {
     "data": {
      "text/plain": [
       "[ItemInStock(id=1, lot='00245', pallet='0034', roll='0101', note='Item note', stock=Stock(reference='FEU034/25', date=datetime.datetime(2025, 2, 2, 0, 0), consignor='Pujol', ready=False, note='tech note'), cat=Cat(name='Visual', cat='film', width=1800, weight=123.0, note='Сгенерированное примечание к категории')),\n",
       " ItemInStock(id=2, lot='00245', pallet='0034', roll='0103', note='Item note', stock=Stock(reference='FEU036/25', date=datetime.datetime(2025, 2, 10, 0, 0), consignor='Pujol', ready=False, note='tech note'), cat=Cat(name='Visual', cat='film', width=1800, weight=123.0, note='Сгенерированное примечание к категории')),\n",
       " ItemInStock(id=3, lot='00430', pallet='0055', roll='1022', note='Item note', stock=Stock(reference='FEU034/25', date=datetime.datetime(2025, 2, 2, 0, 0), consignor='Pujol', ready=False, note='tech note'), cat=Cat(name='Visual', cat='film', width=2200, weight=156.0, note='Сгенерированное примечание к категории')),\n",
       " ItemInStock(id=4, lot='20003', pallet='0204', roll='0126', note='item note', stock=Stock(reference='FEU040/25', date=datetime.datetime(2025, 2, 14, 20, 53, 26, 999000), consignor='Puijol', ready=False, note='Postman note'), cat=Cat(name='Visual', cat='film', width=1300, weight=102.0, note='Сгенерированное примечание к категории')),\n",
       " ItemInStock(id=5, lot='03200', pallet='0304', roll='0023', note='forn add', stock=Stock(reference='FEU034/25', date=datetime.datetime(2025, 2, 2, 0, 0), consignor='Pujol', ready=False, note='tech note'), cat=Cat(name='Visual', cat='film', width=2200, weight=156.0, note='Сгенерированное примечание к категории'))]"
      ]
     },
     "execution_count": 7,
     "metadata": {},
     "output_type": "execute_result"
    }
   ],
   "source": [
    "items_on_stock"
   ]
  },
  {
   "cell_type": "code",
   "execution_count": null,
   "id": "add4c287",
   "metadata": {},
   "outputs": [],
   "source": []
  },
  {
   "cell_type": "code",
   "execution_count": null,
   "id": "aa39dd47",
   "metadata": {},
   "outputs": [],
   "source": []
  },
  {
   "cell_type": "code",
   "execution_count": null,
   "id": "ca114206",
   "metadata": {},
   "outputs": [],
   "source": []
  },
  {
   "cell_type": "code",
   "execution_count": null,
   "id": "1434e0b9",
   "metadata": {},
   "outputs": [],
   "source": []
  },
  {
   "cell_type": "code",
   "execution_count": null,
   "id": "ba984f05",
   "metadata": {},
   "outputs": [],
   "source": []
  },
  {
   "cell_type": "code",
   "execution_count": null,
   "id": "04fc6077",
   "metadata": {},
   "outputs": [],
   "source": []
  },
  {
   "cell_type": "code",
   "execution_count": null,
   "id": "90c60aaa",
   "metadata": {},
   "outputs": [],
   "source": []
  }
 ],
 "metadata": {
  "kernelspec": {
   "display_name": ".venv",
   "language": "python",
   "name": "python3"
  },
  "language_info": {
   "codemirror_mode": {
    "name": "ipython",
    "version": 3
   },
   "file_extension": ".py",
   "mimetype": "text/x-python",
   "name": "python",
   "nbconvert_exporter": "python",
   "pygments_lexer": "ipython3",
   "version": "3.12.2"
  }
 },
 "nbformat": 4,
 "nbformat_minor": 5
}
