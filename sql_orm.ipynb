{
 "cells": [
  {
   "cell_type": "code",
   "execution_count": 1,
   "id": "fa67c5d3",
   "metadata": {},
   "outputs": [],
   "source": [
    "from sqlalchemy.orm import Session\n",
    "from sqlalchemy import create_engine\n",
    "\n",
    "engine = create_engine('sqlite+pysqlite:///app/db/data.db', echo=True)"
   ]
  },
  {
   "cell_type": "code",
   "execution_count": 2,
   "id": "657c2987",
   "metadata": {},
   "outputs": [],
   "source": [
    "from sqlalchemy import select\n",
    "\n",
    "from app.models.item import Item\n",
    "from app.models.stock import Stock\n",
    "from app.models.cat import Cat\n",
    "from app.dao.db_base import Base\n",
    "\n",
    "session = Session(engine)"
   ]
  },
  {
   "cell_type": "code",
   "execution_count": 3,
   "id": "c3fec17a",
   "metadata": {},
   "outputs": [],
   "source": [
    "test_stmt = select(Item)"
   ]
  },
  {
   "cell_type": "code",
   "execution_count": 4,
   "id": "034961ae",
   "metadata": {},
   "outputs": [
    {
     "name": "stdout",
     "output_type": "stream",
     "text": [
      "2025-04-16 12:07:35,164 INFO sqlalchemy.engine.Engine BEGIN (implicit)\n",
      "2025-04-16 12:07:35,178 INFO sqlalchemy.engine.Engine SELECT items.stock_id, items.load_id, items.cat_id, items.lot, items.pallet, items.roll, items.note, items.id \n",
      "FROM items\n",
      "2025-04-16 12:07:35,178 INFO sqlalchemy.engine.Engine [generated in 0.00067s] ()\n"
     ]
    },
    {
     "name": "stdout",
     "output_type": "stream",
     "text": [
      "{'stock_id': 1, 'load_id': None, 'cat_id': 3, 'lot': '00245', 'pallet': '0034', 'roll': '0101', 'note': 'Item note', 'id': 1}\n",
      "{'stock_id': 2, 'load_id': None, 'cat_id': 3, 'lot': '00245', 'pallet': '0034', 'roll': '0103', 'note': 'Item note', 'id': 2}\n",
      "{'stock_id': 1, 'load_id': None, 'cat_id': 1, 'lot': '00430', 'pallet': '0055', 'roll': '1022', 'note': 'Item note', 'id': 3}\n",
      "{'stock_id': 4, 'load_id': None, 'cat_id': 4, 'lot': '20003', 'pallet': '0204', 'roll': '0126', 'note': 'item note', 'id': 4}\n",
      "{'stock_id': 1, 'load_id': None, 'cat_id': 1, 'lot': '03200', 'pallet': '0304', 'roll': '0023', 'note': 'forn add', 'id': 5}\n"
     ]
    }
   ],
   "source": [
    "for item in session.scalars(test_stmt):\n",
    "    print(item.to_dict())"
   ]
  },
  {
   "cell_type": "code",
   "execution_count": 30,
   "id": "48a8f7cd",
   "metadata": {},
   "outputs": [],
   "source": [
    "stmt = (\n",
    "    select(Item, Stock, Cat)\n",
    "    .join(Item.stock)\n",
    "    .join(Item.cat)\n",
    "    .where(Stock.ready == False)\n",
    ")"
   ]
  },
  {
   "cell_type": "code",
   "execution_count": 31,
   "id": "1f41a202",
   "metadata": {},
   "outputs": [
    {
     "name": "stdout",
     "output_type": "stream",
     "text": [
      "SELECT items.stock_id, items.load_id, items.cat_id, items.lot, items.pallet, items.roll, items.note, items.id, stocks.reference, stocks.date, stocks.consignor, stocks.ready, stocks.note AS note_1, stocks.id AS id_1, cats.name, cats.cat, cats.width, cats.weight, cats.note AS note_2, cats.id AS id_2 \n",
      "FROM items JOIN stocks ON stocks.id = items.stock_id JOIN cats ON cats.id = items.cat_id \n",
      "WHERE stocks.ready = false\n"
     ]
    }
   ],
   "source": [
    "print(stmt)"
   ]
  },
  {
   "cell_type": "code",
   "execution_count": 32,
   "id": "22636fd3",
   "metadata": {},
   "outputs": [
    {
     "name": "stdout",
     "output_type": "stream",
     "text": [
      "2025-04-16 15:08:56,923 INFO sqlalchemy.engine.Engine SELECT items.stock_id, items.load_id, items.cat_id, items.lot, items.pallet, items.roll, items.note, items.id, stocks.reference, stocks.date, stocks.consignor, stocks.ready, stocks.note AS note_1, stocks.id AS id_1, cats.name, cats.cat, cats.width, cats.weight, cats.note AS note_2, cats.id AS id_2 \n",
      "FROM items JOIN stocks ON stocks.id = items.stock_id JOIN cats ON cats.id = items.cat_id \n",
      "WHERE stocks.ready = 0\n",
      "2025-04-16 15:08:56,925 INFO sqlalchemy.engine.Engine [generated in 0.00226s] ()\n",
      "{'stock_id': 1, 'load_id': None, 'cat_id': 3, 'lot': '00245', 'pallet': '0034', 'roll': '0101', 'note': 'Item note', 'id': 1}\n",
      "{'reference': 'FEU034/25', 'date': datetime.datetime(2025, 2, 2, 0, 0), 'consignor': 'Pujol', 'ready': False, 'note': 'tech note', 'id': 1}\n",
      "{'name': 'Visual', 'cat': 'film', 'width': 1800, 'weight': 123.0, 'note': 'Сгенерированное примечание к категории', 'id': 3}\n",
      "{'stock_id': 2, 'load_id': None, 'cat_id': 3, 'lot': '00245', 'pallet': '0034', 'roll': '0103', 'note': 'Item note', 'id': 2}\n",
      "{'reference': 'FEU036/25', 'date': datetime.datetime(2025, 2, 10, 0, 0), 'consignor': 'Pujol', 'ready': False, 'note': 'tech note', 'id': 2}\n",
      "{'name': 'Visual', 'cat': 'film', 'width': 1800, 'weight': 123.0, 'note': 'Сгенерированное примечание к категории', 'id': 3}\n",
      "{'stock_id': 1, 'load_id': None, 'cat_id': 1, 'lot': '00430', 'pallet': '0055', 'roll': '1022', 'note': 'Item note', 'id': 3}\n",
      "{'reference': 'FEU034/25', 'date': datetime.datetime(2025, 2, 2, 0, 0), 'consignor': 'Pujol', 'ready': False, 'note': 'tech note', 'id': 1}\n",
      "{'name': 'Visual', 'cat': 'film', 'width': 2200, 'weight': 156.0, 'note': 'Сгенерированное примечание к категории', 'id': 1}\n",
      "{'stock_id': 4, 'load_id': None, 'cat_id': 4, 'lot': '20003', 'pallet': '0204', 'roll': '0126', 'note': 'item note', 'id': 4}\n",
      "{'reference': 'FEU040/25', 'date': datetime.datetime(2025, 2, 14, 20, 53, 26, 999000), 'consignor': 'Puijol', 'ready': False, 'note': 'Postman note', 'id': 4}\n",
      "{'name': 'Visual', 'cat': 'film', 'width': 1300, 'weight': 102.0, 'note': 'Сгенерированное примечание к категории', 'id': 4}\n",
      "{'stock_id': 1, 'load_id': None, 'cat_id': 1, 'lot': '03200', 'pallet': '0304', 'roll': '0023', 'note': 'forn add', 'id': 5}\n",
      "{'reference': 'FEU034/25', 'date': datetime.datetime(2025, 2, 2, 0, 0), 'consignor': 'Pujol', 'ready': False, 'note': 'tech note', 'id': 1}\n",
      "{'name': 'Visual', 'cat': 'film', 'width': 2200, 'weight': 156.0, 'note': 'Сгенерированное примечание к категории', 'id': 1}\n"
     ]
    }
   ],
   "source": [
    "for item in session.scalars(stmt):\n",
    "    print(f'{item.to_dict()}')\n",
    "    print(f'{item.stock.to_dict()}')\n",
    "    print(f'{item.cat.to_dict()}')"
   ]
  },
  {
   "cell_type": "code",
   "execution_count": 33,
   "id": "43e623f2",
   "metadata": {},
   "outputs": [
    {
     "name": "stdout",
     "output_type": "stream",
     "text": [
      "2025-04-16 15:48:41,861 INFO sqlalchemy.engine.Engine SELECT items.stock_id, items.load_id, items.cat_id, items.lot, items.pallet, items.roll, items.note, items.id, stocks.reference, stocks.date, stocks.consignor, stocks.ready, stocks.note AS note_1, stocks.id AS id_1, cats.name, cats.cat, cats.width, cats.weight, cats.note AS note_2, cats.id AS id_2 \n",
      "FROM items JOIN stocks ON stocks.id = items.stock_id JOIN cats ON cats.id = items.cat_id \n",
      "WHERE stocks.ready = 0\n",
      "2025-04-16 15:48:41,864 INFO sqlalchemy.engine.Engine [cached since 2385s ago] ()\n"
     ]
    }
   ],
   "source": [
    "result = session.execute(stmt)"
   ]
  },
  {
   "cell_type": "code",
   "execution_count": 39,
   "id": "7b5acbfb",
   "metadata": {},
   "outputs": [
    {
     "data": {
      "text/plain": [
       "[]"
      ]
     },
     "execution_count": 39,
     "metadata": {},
     "output_type": "execute_result"
    }
   ],
   "source": [
    "result.all()"
   ]
  },
  {
   "cell_type": "code",
   "execution_count": 15,
   "id": "add4c287",
   "metadata": {},
   "outputs": [],
   "source": [
    "stmt = (\n",
    "    select(Item).\n",
    "    order_by(Item.id)\n",
    ")"
   ]
  },
  {
   "cell_type": "code",
   "execution_count": 17,
   "id": "ca114206",
   "metadata": {},
   "outputs": [
    {
     "name": "stdout",
     "output_type": "stream",
     "text": [
      "2025-04-15 15:02:42,269 INFO sqlalchemy.engine.Engine SELECT items.stock_id, items.load_id, items.cat_id, items.lot, items.pallet, items.roll, items.note, items.id \n",
      "FROM items ORDER BY items.id\n",
      "2025-04-15 15:02:42,272 INFO sqlalchemy.engine.Engine [generated in 0.00242s] ()\n"
     ]
    }
   ],
   "source": [
    "result = session.execute(stmt)"
   ]
  },
  {
   "cell_type": "code",
   "execution_count": 18,
   "id": "1434e0b9",
   "metadata": {},
   "outputs": [
    {
     "data": {
      "text/plain": [
       "[(<app.models.item.Item object at 0x7f2b7d4437c0>,),\n",
       " (<app.models.item.Item object at 0x7f2b7d442e00>,),\n",
       " (<app.models.item.Item object at 0x7f2b7d441870>,),\n",
       " (<app.models.item.Item object at 0x7f2b7d441cf0>,),\n",
       " (<app.models.item.Item object at 0x7f2b7d442140>,)]"
      ]
     },
     "execution_count": 18,
     "metadata": {},
     "output_type": "execute_result"
    }
   ],
   "source": [
    "result.all()"
   ]
  },
  {
   "cell_type": "code",
   "execution_count": 19,
   "id": "ba984f05",
   "metadata": {},
   "outputs": [],
   "source": [
    "stmt = (\n",
    "    select(Item, Stock)\n",
    "    .join(Item.stock)\n",
    "    .order_by(Stock.date)\n",
    ")"
   ]
  },
  {
   "cell_type": "code",
   "execution_count": 24,
   "id": "8d5b2f59",
   "metadata": {},
   "outputs": [
    {
     "name": "stdout",
     "output_type": "stream",
     "text": [
      "2025-04-15 15:08:06,567 INFO sqlalchemy.engine.Engine SELECT items.stock_id, items.load_id, items.cat_id, items.lot, items.pallet, items.roll, items.note, items.id, stocks.reference, stocks.date, stocks.consignor, stocks.ready, stocks.note AS note_1, stocks.id AS id_1 \n",
      "FROM items JOIN stocks ON stocks.id = items.stock_id ORDER BY stocks.date\n",
      "2025-04-15 15:08:06,569 INFO sqlalchemy.engine.Engine [cached since 99.11s ago] ()\n",
      "FEU034/25 2025-02-02 00:00:00 0034\n",
      "FEU034/25 2025-02-02 00:00:00 0055\n",
      "FEU034/25 2025-02-02 00:00:00 0304\n",
      "FEU036/25 2025-02-10 00:00:00 0034\n",
      "FEU040/25 2025-02-14 20:53:26.999000 0204\n"
     ]
    }
   ],
   "source": [
    "for row in session.execute(stmt):\n",
    "    print(f'{row.Stock.reference} {row.Stock.date} {row.Item.pallet}')"
   ]
  },
  {
   "cell_type": "code",
   "execution_count": 5,
   "id": "04fc6077",
   "metadata": {},
   "outputs": [
    {
     "name": "stdout",
     "output_type": "stream",
     "text": [
      "SELECT items.stock_id, items.load_id, items.cat_id, items.lot, items.pallet, items.roll, items.note, items.id, stocks.reference, stocks.date, cats.name, cats.cat, cats.width \n",
      "FROM items JOIN stocks ON stocks.id = items.stock_id JOIN cats ON cats.id = items.cat_id \n",
      "WHERE stocks.ready IS NULL\n"
     ]
    }
   ],
   "source": [
    "stmt = (\n",
    "    select(Item, Stock.reference, Stock.date, Cat.name, Cat.cat, Cat.width)\n",
    "    .join(Item.stock)\n",
    "    .join(Item.cat)\n",
    "    .where(Stock.ready == None)\n",
    ")\n",
    "\n",
    "print(stmt)"
   ]
  },
  {
   "cell_type": "code",
   "execution_count": 11,
   "id": "90c60aaa",
   "metadata": {},
   "outputs": [],
   "source": [
    "for row in session.execute(stmt):\n",
    "    print(f'{row.id}')\n"
   ]
  }
 ],
 "metadata": {
  "kernelspec": {
   "display_name": ".venv",
   "language": "python",
   "name": "python3"
  },
  "language_info": {
   "codemirror_mode": {
    "name": "ipython",
    "version": 3
   },
   "file_extension": ".py",
   "mimetype": "text/x-python",
   "name": "python",
   "nbconvert_exporter": "python",
   "pygments_lexer": "ipython3",
   "version": "3.10.12"
  }
 },
 "nbformat": 4,
 "nbformat_minor": 5
}
